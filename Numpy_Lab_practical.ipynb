{
 "cells": [
  {
   "cell_type": "code",
   "execution_count": null,
   "id": "a40d0e07",
   "metadata": {},
   "outputs": [],
   "source": [
    "#ASSIGNMENT 2"
   ]
  },
  {
   "cell_type": "code",
   "execution_count": 1,
   "id": "11d99937",
   "metadata": {},
   "outputs": [],
   "source": [
    "import numpy as np"
   ]
  },
  {
   "cell_type": "code",
   "execution_count": 3,
   "id": "2cbe3f67",
   "metadata": {},
   "outputs": [],
   "source": [
    "#1. Create 1-D, 2-D and 3-D numpy array\n",
    "arr=np.random.random(6)"
   ]
  },
  {
   "cell_type": "code",
   "execution_count": 4,
   "id": "35b5385b",
   "metadata": {},
   "outputs": [
    {
     "data": {
      "text/plain": [
       "array([0.72394562, 0.33521207, 0.97919878, 0.51826455, 0.8807387 ,\n",
       "       0.09243865])"
      ]
     },
     "execution_count": 4,
     "metadata": {},
     "output_type": "execute_result"
    }
   ],
   "source": [
    "arr"
   ]
  },
  {
   "cell_type": "code",
   "execution_count": 5,
   "id": "23d3fc38",
   "metadata": {},
   "outputs": [],
   "source": [
    "arr1=np.random.random((2,2))"
   ]
  },
  {
   "cell_type": "code",
   "execution_count": 6,
   "id": "cbfc7af5",
   "metadata": {},
   "outputs": [
    {
     "data": {
      "text/plain": [
       "array([[0.18827406, 0.57199542],\n",
       "       [0.32621984, 0.738229  ]])"
      ]
     },
     "execution_count": 6,
     "metadata": {},
     "output_type": "execute_result"
    }
   ],
   "source": [
    "arr1"
   ]
  },
  {
   "cell_type": "code",
   "execution_count": 13,
   "id": "ee7fef1c",
   "metadata": {},
   "outputs": [],
   "source": [
    "arr3=np.random.random((2,2,2))"
   ]
  },
  {
   "cell_type": "code",
   "execution_count": 10,
   "id": "de5f7717",
   "metadata": {},
   "outputs": [
    {
     "data": {
      "text/plain": [
       "array([[[0.8356056 , 0.30067936],\n",
       "        [0.03859786, 0.81462144]],\n",
       "\n",
       "       [[0.35843947, 0.01696967],\n",
       "        [0.96322856, 0.4017142 ]]])"
      ]
     },
     "execution_count": 10,
     "metadata": {},
     "output_type": "execute_result"
    }
   ],
   "source": [
    "arr3"
   ]
  },
  {
   "cell_type": "code",
   "execution_count": 15,
   "id": "c555d752",
   "metadata": {},
   "outputs": [
    {
     "data": {
      "text/plain": [
       "dtype('float64')"
      ]
     },
     "execution_count": 15,
     "metadata": {},
     "output_type": "execute_result"
    }
   ],
   "source": [
    "#2. Print data type of array. \n",
    "arr1.dtype"
   ]
  },
  {
   "cell_type": "code",
   "execution_count": 16,
   "id": "3d474e62",
   "metadata": {},
   "outputs": [
    {
     "data": {
      "text/plain": [
       "(6,)"
      ]
     },
     "execution_count": 16,
     "metadata": {},
     "output_type": "execute_result"
    }
   ],
   "source": [
    "#3. Print shape and dimensions of all the three different array.\n",
    "arr.shape"
   ]
  },
  {
   "cell_type": "code",
   "execution_count": 17,
   "id": "5f437558",
   "metadata": {},
   "outputs": [
    {
     "data": {
      "text/plain": [
       "(2, 2)"
      ]
     },
     "execution_count": 17,
     "metadata": {},
     "output_type": "execute_result"
    }
   ],
   "source": [
    "arr1.shape"
   ]
  },
  {
   "cell_type": "code",
   "execution_count": 18,
   "id": "edc2e27c",
   "metadata": {},
   "outputs": [
    {
     "data": {
      "text/plain": [
       "(2, 2, 2)"
      ]
     },
     "execution_count": 18,
     "metadata": {},
     "output_type": "execute_result"
    }
   ],
   "source": [
    "arr3.shape"
   ]
  },
  {
   "cell_type": "code",
   "execution_count": 19,
   "id": "d13a1c0a",
   "metadata": {},
   "outputs": [
    {
     "data": {
      "text/plain": [
       "1"
      ]
     },
     "execution_count": 19,
     "metadata": {},
     "output_type": "execute_result"
    }
   ],
   "source": [
    "arr.ndim"
   ]
  },
  {
   "cell_type": "code",
   "execution_count": 20,
   "id": "74a2af89",
   "metadata": {},
   "outputs": [
    {
     "data": {
      "text/plain": [
       "2"
      ]
     },
     "execution_count": 20,
     "metadata": {},
     "output_type": "execute_result"
    }
   ],
   "source": [
    "arr1.ndim"
   ]
  },
  {
   "cell_type": "code",
   "execution_count": 21,
   "id": "ef529460",
   "metadata": {},
   "outputs": [
    {
     "data": {
      "text/plain": [
       "3"
      ]
     },
     "execution_count": 21,
     "metadata": {},
     "output_type": "execute_result"
    }
   ],
   "source": [
    "arr3.ndim"
   ]
  },
  {
   "cell_type": "code",
   "execution_count": 22,
   "id": "f0d28144",
   "metadata": {},
   "outputs": [],
   "source": [
    "#4. Create another 1-D array of 12 elements filled with zero \n",
    "ar=np.zeros(12)"
   ]
  },
  {
   "cell_type": "code",
   "execution_count": 23,
   "id": "29e7dc22",
   "metadata": {},
   "outputs": [
    {
     "data": {
      "text/plain": [
       "array([0., 0., 0., 0., 0., 0., 0., 0., 0., 0., 0., 0.])"
      ]
     },
     "execution_count": 23,
     "metadata": {},
     "output_type": "execute_result"
    }
   ],
   "source": [
    "ar"
   ]
  },
  {
   "cell_type": "code",
   "execution_count": 24,
   "id": "be720cc6",
   "metadata": {},
   "outputs": [],
   "source": [
    "#5. Create another 2-D array elements filled with ones.\n",
    "ar1=np.ones((2,2))"
   ]
  },
  {
   "cell_type": "code",
   "execution_count": 25,
   "id": "6e1bfb1f",
   "metadata": {},
   "outputs": [
    {
     "data": {
      "text/plain": [
       "array([[1., 1.],\n",
       "       [1., 1.]])"
      ]
     },
     "execution_count": 25,
     "metadata": {},
     "output_type": "execute_result"
    }
   ],
   "source": [
    "ar1"
   ]
  },
  {
   "cell_type": "code",
   "execution_count": 26,
   "id": "6adcbda3",
   "metadata": {},
   "outputs": [],
   "source": [
    "#6. Create a 1-D array known as Maths Marks out of 100 having 20 elements.\n",
    "maths=np.random.randint(0,100,20)"
   ]
  },
  {
   "cell_type": "code",
   "execution_count": 27,
   "id": "66acec79",
   "metadata": {},
   "outputs": [
    {
     "data": {
      "text/plain": [
       "array([46, 53, 20, 84, 24, 84, 45, 31, 23, 90, 12, 56, 37, 26, 53, 73, 82,\n",
       "       28, 38, 64])"
      ]
     },
     "execution_count": 27,
     "metadata": {},
     "output_type": "execute_result"
    }
   ],
   "source": [
    "maths"
   ]
  },
  {
   "cell_type": "code",
   "execution_count": 81,
   "id": "ca5d15f0",
   "metadata": {},
   "outputs": [
    {
     "data": {
      "text/plain": [
       "array([52, 98, 53, 66, 98, 14, 34, 24, 15, 60, 58, 16,  9, 93, 86,  2, 27,\n",
       "        4, 31,  1])"
      ]
     },
     "execution_count": 81,
     "metadata": {},
     "output_type": "execute_result"
    }
   ],
   "source": [
    "#7. Sort the above array in ascending and descending order. \n",
    "maths=np.random.randint(0,100,20)\n",
    "maths"
   ]
  },
  {
   "cell_type": "code",
   "execution_count": 85,
   "id": "20b7336b",
   "metadata": {},
   "outputs": [],
   "source": [
    "C1=np.sort(maths)"
   ]
  },
  {
   "cell_type": "code",
   "execution_count": 87,
   "id": "f7f9e479",
   "metadata": {},
   "outputs": [
    {
     "data": {
      "text/plain": [
       "array([ 1,  2,  4,  9, 14, 15, 16, 24, 27, 31, 34, 52, 53, 58, 60, 66, 86,\n",
       "       93, 98, 98])"
      ]
     },
     "execution_count": 87,
     "metadata": {},
     "output_type": "execute_result"
    }
   ],
   "source": [
    "C1"
   ]
  },
  {
   "cell_type": "code",
   "execution_count": 84,
   "id": "14d368e9",
   "metadata": {},
   "outputs": [
    {
     "data": {
      "text/plain": [
       "array([98, 98, 93, 86, 66, 60, 58, 53, 52, 34, 31, 27, 24, 16, 15, 14,  9,\n",
       "        4,  2,  1])"
      ]
     },
     "execution_count": 84,
     "metadata": {},
     "output_type": "execute_result"
    }
   ],
   "source": [
    "np.sort(maths)[::-1]"
   ]
  },
  {
   "cell_type": "code",
   "execution_count": 88,
   "id": "abfd3b4e",
   "metadata": {},
   "outputs": [],
   "source": [
    "#8. Create a copy of sorted array to another variable by deep copying.\n",
    "c1=C1[::].copy()"
   ]
  },
  {
   "cell_type": "code",
   "execution_count": 89,
   "id": "2c71b1a3",
   "metadata": {},
   "outputs": [
    {
     "data": {
      "text/plain": [
       "array([ 1,  2,  4,  9, 14, 15, 16, 24, 27, 31, 34, 52, 53, 58, 60, 66, 86,\n",
       "       93, 98, 98])"
      ]
     },
     "execution_count": 89,
     "metadata": {},
     "output_type": "execute_result"
    }
   ],
   "source": [
    "c1"
   ]
  },
  {
   "cell_type": "code",
   "execution_count": 2,
   "id": "d2369602",
   "metadata": {},
   "outputs": [],
   "source": [
    "import numpy as np"
   ]
  },
  {
   "cell_type": "code",
   "execution_count": 4,
   "id": "3c0093ab",
   "metadata": {},
   "outputs": [],
   "source": [
    "#9. Create 2-D array of 5x5 which is an identity matrix and then convert 1D.\n",
    "B5=np.eye(5,5)"
   ]
  },
  {
   "cell_type": "code",
   "execution_count": 5,
   "id": "3468a9aa",
   "metadata": {},
   "outputs": [
    {
     "data": {
      "text/plain": [
       "array([[1., 0., 0., 0., 0.],\n",
       "       [0., 1., 0., 0., 0.],\n",
       "       [0., 0., 1., 0., 0.],\n",
       "       [0., 0., 0., 1., 0.],\n",
       "       [0., 0., 0., 0., 1.]])"
      ]
     },
     "execution_count": 5,
     "metadata": {},
     "output_type": "execute_result"
    }
   ],
   "source": [
    "B5"
   ]
  },
  {
   "cell_type": "code",
   "execution_count": 6,
   "id": "b9580c2c",
   "metadata": {},
   "outputs": [
    {
     "data": {
      "text/plain": [
       "array([1., 0., 0., 0., 0., 0., 1., 0., 0., 0., 0., 0., 1., 0., 0., 0., 0.,\n",
       "       0., 1., 0., 0., 0., 0., 0., 1.])"
      ]
     },
     "execution_count": 6,
     "metadata": {},
     "output_type": "execute_result"
    }
   ],
   "source": [
    "B5.reshape(25)"
   ]
  },
  {
   "cell_type": "code",
   "execution_count": 8,
   "id": "623bae68",
   "metadata": {},
   "outputs": [],
   "source": [
    "#10. Create 2-D array of 3x3. Add one more row to it. \n",
    "B1=np.arange(0,9).reshape(3,3)"
   ]
  },
  {
   "cell_type": "code",
   "execution_count": 9,
   "id": "6ccbe340",
   "metadata": {},
   "outputs": [
    {
     "data": {
      "text/plain": [
       "array([[0, 1, 2],\n",
       "       [3, 4, 5],\n",
       "       [6, 7, 8]])"
      ]
     },
     "execution_count": 9,
     "metadata": {},
     "output_type": "execute_result"
    }
   ],
   "source": [
    "B1"
   ]
  },
  {
   "cell_type": "code",
   "execution_count": 14,
   "id": "edc2e42f",
   "metadata": {},
   "outputs": [],
   "source": [
    "b1=np.array([9,10,11]).reshape(1,3)"
   ]
  },
  {
   "cell_type": "code",
   "execution_count": 15,
   "id": "22731512",
   "metadata": {},
   "outputs": [
    {
     "data": {
      "text/plain": [
       "array([[ 9, 10, 11]])"
      ]
     },
     "execution_count": 15,
     "metadata": {},
     "output_type": "execute_result"
    }
   ],
   "source": [
    "b1"
   ]
  },
  {
   "cell_type": "code",
   "execution_count": 18,
   "id": "aa8c3b04",
   "metadata": {},
   "outputs": [],
   "source": [
    "b3=np.concatenate([B1,b1])"
   ]
  },
  {
   "cell_type": "code",
   "execution_count": 19,
   "id": "ca1aecd4",
   "metadata": {},
   "outputs": [
    {
     "data": {
      "text/plain": [
       "array([[ 0,  1,  2],\n",
       "       [ 3,  4,  5],\n",
       "       [ 6,  7,  8],\n",
       "       [ 9, 10, 11]])"
      ]
     },
     "execution_count": 19,
     "metadata": {},
     "output_type": "execute_result"
    }
   ],
   "source": [
    "b3"
   ]
  },
  {
   "cell_type": "code",
   "execution_count": 24,
   "id": "9d5602cc",
   "metadata": {},
   "outputs": [
    {
     "data": {
      "text/plain": [
       "[array([[0, 1, 2],\n",
       "        [3, 4, 5]]),\n",
       " array([[ 6,  7,  8],\n",
       "        [ 9, 10, 11]])]"
      ]
     },
     "execution_count": 24,
     "metadata": {},
     "output_type": "execute_result"
    }
   ],
   "source": [
    "#11. Split above array created vertically and horizontally.\n",
    "np.vsplit(b3,2)"
   ]
  },
  {
   "cell_type": "code",
   "execution_count": 27,
   "id": "74f5bcba",
   "metadata": {},
   "outputs": [
    {
     "data": {
      "text/plain": [
       "[array([[0],\n",
       "        [3],\n",
       "        [6],\n",
       "        [9]]),\n",
       " array([[ 1],\n",
       "        [ 4],\n",
       "        [ 7],\n",
       "        [10]]),\n",
       " array([[ 2],\n",
       "        [ 5],\n",
       "        [ 8],\n",
       "        [11]])]"
      ]
     },
     "execution_count": 27,
     "metadata": {},
     "output_type": "execute_result"
    }
   ],
   "source": [
    "np.hsplit(b3,3)"
   ]
  },
  {
   "cell_type": "code",
   "execution_count": 28,
   "id": "a20b102d",
   "metadata": {},
   "outputs": [],
   "source": [
    "#12. Create 4x4 identity matrix. Add 4 to each element. \n",
    "matrix=np.eye(4,4)"
   ]
  },
  {
   "cell_type": "code",
   "execution_count": 29,
   "id": "338b1eea",
   "metadata": {},
   "outputs": [
    {
     "data": {
      "text/plain": [
       "array([[1., 0., 0., 0.],\n",
       "       [0., 1., 0., 0.],\n",
       "       [0., 0., 1., 0.],\n",
       "       [0., 0., 0., 1.]])"
      ]
     },
     "execution_count": 29,
     "metadata": {},
     "output_type": "execute_result"
    }
   ],
   "source": [
    "matrix"
   ]
  },
  {
   "cell_type": "code",
   "execution_count": 30,
   "id": "85dec216",
   "metadata": {},
   "outputs": [],
   "source": [
    "mat=matrix+4"
   ]
  },
  {
   "cell_type": "code",
   "execution_count": 31,
   "id": "00edbaa5",
   "metadata": {},
   "outputs": [
    {
     "data": {
      "text/plain": [
       "array([[5., 4., 4., 4.],\n",
       "       [4., 5., 4., 4.],\n",
       "       [4., 4., 5., 4.],\n",
       "       [4., 4., 4., 5.]])"
      ]
     },
     "execution_count": 31,
     "metadata": {},
     "output_type": "execute_result"
    }
   ],
   "source": [
    "mat"
   ]
  },
  {
   "cell_type": "code",
   "execution_count": 32,
   "id": "4b7f44f0",
   "metadata": {},
   "outputs": [],
   "source": [
    "#13. Create 1-D array. Initialize with floating point values. Display its ceil, floor and round (with 2 decimal’s). \n",
    "ary=np.array([2.6457,6.8889,9.2341,7.1123,5.0543])"
   ]
  },
  {
   "cell_type": "code",
   "execution_count": 33,
   "id": "f9fd58ed",
   "metadata": {},
   "outputs": [
    {
     "data": {
      "text/plain": [
       "array([2.6457, 6.8889, 9.2341, 7.1123, 5.0543])"
      ]
     },
     "execution_count": 33,
     "metadata": {},
     "output_type": "execute_result"
    }
   ],
   "source": [
    "ary"
   ]
  },
  {
   "cell_type": "code",
   "execution_count": 34,
   "id": "01243891",
   "metadata": {},
   "outputs": [
    {
     "data": {
      "text/plain": [
       "array([ 3.,  7., 10.,  8.,  6.])"
      ]
     },
     "execution_count": 34,
     "metadata": {},
     "output_type": "execute_result"
    }
   ],
   "source": [
    "np.ceil(ary)"
   ]
  },
  {
   "cell_type": "code",
   "execution_count": 35,
   "id": "43063aeb",
   "metadata": {},
   "outputs": [
    {
     "data": {
      "text/plain": [
       "array([2., 6., 9., 7., 5.])"
      ]
     },
     "execution_count": 35,
     "metadata": {},
     "output_type": "execute_result"
    }
   ],
   "source": [
    "np.floor(ary)"
   ]
  },
  {
   "cell_type": "code",
   "execution_count": 36,
   "id": "1e1a6126",
   "metadata": {},
   "outputs": [
    {
     "data": {
      "text/plain": [
       "array([2.65, 6.89, 9.23, 7.11, 5.05])"
      ]
     },
     "execution_count": 36,
     "metadata": {},
     "output_type": "execute_result"
    }
   ],
   "source": [
    "np.round(ary,2)"
   ]
  },
  {
   "cell_type": "code",
   "execution_count": 37,
   "id": "bfacc7db",
   "metadata": {},
   "outputs": [],
   "source": [
    "#14. Create 5x5 matrix. Display min, max, variance and standard deviation column-wise.\n",
    "B3=ary=np.random.randint(0,25,(5,5))"
   ]
  },
  {
   "cell_type": "code",
   "execution_count": 38,
   "id": "082d1ce2",
   "metadata": {},
   "outputs": [
    {
     "data": {
      "text/plain": [
       "array([[ 9, 22, 24, 18, 15],\n",
       "       [20, 21, 21,  4,  1],\n",
       "       [ 6, 20,  7, 14,  8],\n",
       "       [17, 18, 12, 24, 15],\n",
       "       [ 4,  2, 22,  8,  3]])"
      ]
     },
     "execution_count": 38,
     "metadata": {},
     "output_type": "execute_result"
    }
   ],
   "source": [
    "B3"
   ]
  },
  {
   "cell_type": "code",
   "execution_count": 39,
   "id": "4cdcb348",
   "metadata": {},
   "outputs": [
    {
     "data": {
      "text/plain": [
       "array([ 9,  1,  6, 12,  2])"
      ]
     },
     "execution_count": 39,
     "metadata": {},
     "output_type": "execute_result"
    }
   ],
   "source": [
    "np.min(B3,axis=1)"
   ]
  },
  {
   "cell_type": "code",
   "execution_count": 40,
   "id": "1160a626",
   "metadata": {},
   "outputs": [
    {
     "data": {
      "text/plain": [
       "array([24, 21, 20, 24, 22])"
      ]
     },
     "execution_count": 40,
     "metadata": {},
     "output_type": "execute_result"
    }
   ],
   "source": [
    "np.max(B3,axis=1)"
   ]
  },
  {
   "cell_type": "code",
   "execution_count": 41,
   "id": "5b7dfab6",
   "metadata": {},
   "outputs": [
    {
     "data": {
      "text/plain": [
       "array([28.24, 80.24, 28.  , 15.76, 54.56])"
      ]
     },
     "execution_count": 41,
     "metadata": {},
     "output_type": "execute_result"
    }
   ],
   "source": [
    "np.var(B3,axis=1)"
   ]
  },
  {
   "cell_type": "code",
   "execution_count": 42,
   "id": "0bdf46b3",
   "metadata": {},
   "outputs": [
    {
     "data": {
      "text/plain": [
       "array([5.3141321 , 8.95767827, 5.29150262, 3.96988665, 7.38647413])"
      ]
     },
     "execution_count": 42,
     "metadata": {},
     "output_type": "execute_result"
    }
   ],
   "source": [
    "np.std(B3,axis=1)"
   ]
  },
  {
   "cell_type": "code",
   "execution_count": 43,
   "id": "6f027eaa",
   "metadata": {},
   "outputs": [
    {
     "data": {
      "text/plain": [
       "array([nan, nan, nan, nan, nan, nan, nan, nan, nan, nan])"
      ]
     },
     "execution_count": 43,
     "metadata": {},
     "output_type": "execute_result"
    }
   ],
   "source": [
    "#15. Create a null vector of size 10 with 6th value filled with 200.\n",
    "B4=np.full((10),np.nan)\n",
    "B4"
   ]
  },
  {
   "cell_type": "code",
   "execution_count": 44,
   "id": "08643068",
   "metadata": {},
   "outputs": [],
   "source": [
    "B4[6]=200"
   ]
  },
  {
   "cell_type": "code",
   "execution_count": 45,
   "id": "f4e36d48",
   "metadata": {},
   "outputs": [
    {
     "data": {
      "text/plain": [
       "array([ nan,  nan,  nan,  nan,  nan,  nan, 200.,  nan,  nan,  nan])"
      ]
     },
     "execution_count": 45,
     "metadata": {},
     "output_type": "execute_result"
    }
   ],
   "source": [
    "B4"
   ]
  },
  {
   "cell_type": "code",
   "execution_count": 46,
   "id": "8e9ecd93",
   "metadata": {},
   "outputs": [],
   "source": [
    "#16. Create a 1-D Array/Vector with values ranging from 100 to 150 in sequence.\n",
    "B5=np.arange(100,151)"
   ]
  },
  {
   "cell_type": "code",
   "execution_count": 47,
   "id": "6a45dd25",
   "metadata": {},
   "outputs": [
    {
     "data": {
      "text/plain": [
       "array([100, 101, 102, 103, 104, 105, 106, 107, 108, 109, 110, 111, 112,\n",
       "       113, 114, 115, 116, 117, 118, 119, 120, 121, 122, 123, 124, 125,\n",
       "       126, 127, 128, 129, 130, 131, 132, 133, 134, 135, 136, 137, 138,\n",
       "       139, 140, 141, 142, 143, 144, 145, 146, 147, 148, 149, 150])"
      ]
     },
     "execution_count": 47,
     "metadata": {},
     "output_type": "execute_result"
    }
   ],
   "source": [
    "B5"
   ]
  },
  {
   "cell_type": "code",
   "execution_count": 48,
   "id": "538c2eae",
   "metadata": {},
   "outputs": [
    {
     "data": {
      "text/plain": [
       "array([150, 149, 148, 147, 146, 145, 144, 143, 142, 141, 140, 139, 138,\n",
       "       137, 136, 135, 134, 133, 132, 131, 130, 129, 128, 127, 126, 125,\n",
       "       124, 123, 122, 121, 120, 119, 118, 117, 116, 115, 114, 113, 112,\n",
       "       111, 110, 109, 108, 107, 106, 105, 104, 103, 102, 101, 100])"
      ]
     },
     "execution_count": 48,
     "metadata": {},
     "output_type": "execute_result"
    }
   ],
   "source": [
    "#17. Reverse the above vector\n",
    "B5[::-1]"
   ]
  },
  {
   "cell_type": "code",
   "execution_count": 39,
   "id": "21791cac",
   "metadata": {},
   "outputs": [],
   "source": [
    "#18. Create a 5x5 matrix with values ranging from 0-24 using some function.\n",
    "ar3=np.arange(0,25).reshape(5,5)"
   ]
  },
  {
   "cell_type": "code",
   "execution_count": 40,
   "id": "7f7d18a6",
   "metadata": {},
   "outputs": [
    {
     "data": {
      "text/plain": [
       "array([[ 0,  1,  2,  3,  4],\n",
       "       [ 5,  6,  7,  8,  9],\n",
       "       [10, 11, 12, 13, 14],\n",
       "       [15, 16, 17, 18, 19],\n",
       "       [20, 21, 22, 23, 24]])"
      ]
     },
     "execution_count": 40,
     "metadata": {},
     "output_type": "execute_result"
    }
   ],
   "source": [
    "ar3"
   ]
  },
  {
   "cell_type": "code",
   "execution_count": 49,
   "id": "c733dcf6",
   "metadata": {},
   "outputs": [],
   "source": [
    "#19. Find indices of nonzero elements from [1,0,2,0,0,4,0,8]\n",
    "B10=np.array([1,0,2,0,0,4,0,8])"
   ]
  },
  {
   "cell_type": "code",
   "execution_count": 50,
   "id": "d2c906cf",
   "metadata": {},
   "outputs": [
    {
     "data": {
      "text/plain": [
       "array([1, 0, 2, 0, 0, 4, 0, 8])"
      ]
     },
     "execution_count": 50,
     "metadata": {},
     "output_type": "execute_result"
    }
   ],
   "source": [
    "B10"
   ]
  },
  {
   "cell_type": "code",
   "execution_count": 51,
   "id": "1c497b9b",
   "metadata": {},
   "outputs": [
    {
     "data": {
      "text/plain": [
       "(array([0, 2, 5, 7], dtype=int64),)"
      ]
     },
     "execution_count": 51,
     "metadata": {},
     "output_type": "execute_result"
    }
   ],
   "source": [
    "np.nonzero(B10)"
   ]
  },
  {
   "cell_type": "code",
   "execution_count": 8,
   "id": "7446ee71",
   "metadata": {},
   "outputs": [],
   "source": [
    "#20 Create a 10x10 matrix with 1 on the borders and 0 inside.\n",
    "ar4=np.ones([10,10])"
   ]
  },
  {
   "cell_type": "code",
   "execution_count": 9,
   "id": "d2d0e378",
   "metadata": {},
   "outputs": [
    {
     "data": {
      "text/plain": [
       "array([[1., 1., 1., 1., 1., 1., 1., 1., 1., 1.],\n",
       "       [1., 1., 1., 1., 1., 1., 1., 1., 1., 1.],\n",
       "       [1., 1., 1., 1., 1., 1., 1., 1., 1., 1.],\n",
       "       [1., 1., 1., 1., 1., 1., 1., 1., 1., 1.],\n",
       "       [1., 1., 1., 1., 1., 1., 1., 1., 1., 1.],\n",
       "       [1., 1., 1., 1., 1., 1., 1., 1., 1., 1.],\n",
       "       [1., 1., 1., 1., 1., 1., 1., 1., 1., 1.],\n",
       "       [1., 1., 1., 1., 1., 1., 1., 1., 1., 1.],\n",
       "       [1., 1., 1., 1., 1., 1., 1., 1., 1., 1.],\n",
       "       [1., 1., 1., 1., 1., 1., 1., 1., 1., 1.]])"
      ]
     },
     "execution_count": 9,
     "metadata": {},
     "output_type": "execute_result"
    }
   ],
   "source": [
    "ar4"
   ]
  },
  {
   "cell_type": "code",
   "execution_count": 10,
   "id": "1e189063",
   "metadata": {},
   "outputs": [],
   "source": [
    "ar4[1:9,1:9]=0"
   ]
  },
  {
   "cell_type": "code",
   "execution_count": 11,
   "id": "d145cc02",
   "metadata": {},
   "outputs": [
    {
     "data": {
      "text/plain": [
       "array([[1., 1., 1., 1., 1., 1., 1., 1., 1., 1.],\n",
       "       [1., 0., 0., 0., 0., 0., 0., 0., 0., 1.],\n",
       "       [1., 0., 0., 0., 0., 0., 0., 0., 0., 1.],\n",
       "       [1., 0., 0., 0., 0., 0., 0., 0., 0., 1.],\n",
       "       [1., 0., 0., 0., 0., 0., 0., 0., 0., 1.],\n",
       "       [1., 0., 0., 0., 0., 0., 0., 0., 0., 1.],\n",
       "       [1., 0., 0., 0., 0., 0., 0., 0., 0., 1.],\n",
       "       [1., 0., 0., 0., 0., 0., 0., 0., 0., 1.],\n",
       "       [1., 0., 0., 0., 0., 0., 0., 0., 0., 1.],\n",
       "       [1., 1., 1., 1., 1., 1., 1., 1., 1., 1.]])"
      ]
     },
     "execution_count": 11,
     "metadata": {},
     "output_type": "execute_result"
    }
   ],
   "source": [
    "ar4"
   ]
  },
  {
   "cell_type": "code",
   "execution_count": 52,
   "id": "28c6588d",
   "metadata": {},
   "outputs": [],
   "source": [
    "#21. Create 8x8 matrix and fill with 1 and 0 in checkerboard pattern. \n",
    "B7=np.ones([8,8])\n",
    "B7[::2,::2]=0\n",
    "B7[1::2,1::2]=0"
   ]
  },
  {
   "cell_type": "code",
   "execution_count": 53,
   "id": "b49f513b",
   "metadata": {},
   "outputs": [
    {
     "data": {
      "text/plain": [
       "array([[0., 1., 0., 1., 0., 1., 0., 1.],\n",
       "       [1., 0., 1., 0., 1., 0., 1., 0.],\n",
       "       [0., 1., 0., 1., 0., 1., 0., 1.],\n",
       "       [1., 0., 1., 0., 1., 0., 1., 0.],\n",
       "       [0., 1., 0., 1., 0., 1., 0., 1.],\n",
       "       [1., 0., 1., 0., 1., 0., 1., 0.],\n",
       "       [0., 1., 0., 1., 0., 1., 0., 1.],\n",
       "       [1., 0., 1., 0., 1., 0., 1., 0.]])"
      ]
     },
     "execution_count": 53,
     "metadata": {},
     "output_type": "execute_result"
    }
   ],
   "source": [
    "B7"
   ]
  },
  {
   "cell_type": "code",
   "execution_count": 3,
   "id": "530458a8",
   "metadata": {},
   "outputs": [],
   "source": [
    "import numpy as np"
   ]
  },
  {
   "cell_type": "code",
   "execution_count": 10,
   "id": "ead5381d",
   "metadata": {},
   "outputs": [],
   "source": [
    "#22. Create two 3x3 matrix with random integer values. Perform matrix addition, multiplication and subtraction\n",
    "X1=np.random.seed(100)\n",
    "X1=np.random.randint(0,50,[3,3])"
   ]
  },
  {
   "cell_type": "code",
   "execution_count": 11,
   "id": "f3e26ebe",
   "metadata": {},
   "outputs": [
    {
     "data": {
      "text/plain": [
       "array([[ 8, 24,  3],\n",
       "       [39, 23, 15],\n",
       "       [48, 10, 30]])"
      ]
     },
     "execution_count": 11,
     "metadata": {},
     "output_type": "execute_result"
    }
   ],
   "source": [
    "X1"
   ]
  },
  {
   "cell_type": "code",
   "execution_count": 12,
   "id": "b14daefd",
   "metadata": {},
   "outputs": [],
   "source": [
    "X2=np.random.seed(100)\n",
    "X2=np.random.randint(50,100,[3,3])"
   ]
  },
  {
   "cell_type": "code",
   "execution_count": 13,
   "id": "bd81cc23",
   "metadata": {},
   "outputs": [
    {
     "data": {
      "text/plain": [
       "array([[58, 74, 53],\n",
       "       [89, 73, 65],\n",
       "       [98, 60, 80]])"
      ]
     },
     "execution_count": 13,
     "metadata": {},
     "output_type": "execute_result"
    }
   ],
   "source": [
    "X2"
   ]
  },
  {
   "cell_type": "code",
   "execution_count": 14,
   "id": "26cbe7fc",
   "metadata": {},
   "outputs": [
    {
     "data": {
      "text/plain": [
       "array([[ 66,  98,  56],\n",
       "       [128,  96,  80],\n",
       "       [146,  70, 110]])"
      ]
     },
     "execution_count": 14,
     "metadata": {},
     "output_type": "execute_result"
    }
   ],
   "source": [
    "X1+X2"
   ]
  },
  {
   "cell_type": "code",
   "execution_count": 15,
   "id": "f397795a",
   "metadata": {},
   "outputs": [
    {
     "data": {
      "text/plain": [
       "array([[-50, -50, -50],\n",
       "       [-50, -50, -50],\n",
       "       [-50, -50, -50]])"
      ]
     },
     "execution_count": 15,
     "metadata": {},
     "output_type": "execute_result"
    }
   ],
   "source": [
    "X1-X2"
   ]
  },
  {
   "cell_type": "code",
   "execution_count": 16,
   "id": "99da3eb6",
   "metadata": {},
   "outputs": [
    {
     "data": {
      "text/plain": [
       "array([[ 464, 1776,  159],\n",
       "       [3471, 1679,  975],\n",
       "       [4704,  600, 2400]])"
      ]
     },
     "execution_count": 16,
     "metadata": {},
     "output_type": "execute_result"
    }
   ],
   "source": [
    "X1*X2"
   ]
  },
  {
   "cell_type": "code",
   "execution_count": null,
   "id": "88028a07",
   "metadata": {},
   "outputs": [],
   "source": [
    "#ASSIGNMENT 1:"
   ]
  },
  {
   "cell_type": "code",
   "execution_count": 91,
   "id": "b8863de9",
   "metadata": {},
   "outputs": [],
   "source": [
    "#1. Import Numpy as np \n",
    "import numpy as np"
   ]
  },
  {
   "cell_type": "code",
   "execution_count": 93,
   "id": "5e8ea717",
   "metadata": {},
   "outputs": [],
   "source": [
    "#2.Create an array of 10 zeros  \n",
    "D1=np.zeros(10)"
   ]
  },
  {
   "cell_type": "code",
   "execution_count": 94,
   "id": "aa575369",
   "metadata": {},
   "outputs": [
    {
     "data": {
      "text/plain": [
       "array([0., 0., 0., 0., 0., 0., 0., 0., 0., 0.])"
      ]
     },
     "execution_count": 94,
     "metadata": {},
     "output_type": "execute_result"
    }
   ],
   "source": [
    "D1"
   ]
  },
  {
   "cell_type": "code",
   "execution_count": 95,
   "id": "8b12ca82",
   "metadata": {},
   "outputs": [],
   "source": [
    "#3.Create an array of 10 ones  \n",
    "D2=np.ones(10)"
   ]
  },
  {
   "cell_type": "code",
   "execution_count": 96,
   "id": "db725068",
   "metadata": {},
   "outputs": [
    {
     "data": {
      "text/plain": [
       "array([1., 1., 1., 1., 1., 1., 1., 1., 1., 1.])"
      ]
     },
     "execution_count": 96,
     "metadata": {},
     "output_type": "execute_result"
    }
   ],
   "source": [
    "D2"
   ]
  },
  {
   "cell_type": "code",
   "execution_count": 97,
   "id": "48c801e6",
   "metadata": {},
   "outputs": [],
   "source": [
    "#4.Create an array of the integers from 10 to 50 \n",
    "D3=np.arange(10,51)"
   ]
  },
  {
   "cell_type": "code",
   "execution_count": 98,
   "id": "3b2dbd24",
   "metadata": {},
   "outputs": [
    {
     "data": {
      "text/plain": [
       "array([10, 11, 12, 13, 14, 15, 16, 17, 18, 19, 20, 21, 22, 23, 24, 25, 26,\n",
       "       27, 28, 29, 30, 31, 32, 33, 34, 35, 36, 37, 38, 39, 40, 41, 42, 43,\n",
       "       44, 45, 46, 47, 48, 49, 50])"
      ]
     },
     "execution_count": 98,
     "metadata": {},
     "output_type": "execute_result"
    }
   ],
   "source": [
    "D3"
   ]
  },
  {
   "cell_type": "code",
   "execution_count": 99,
   "id": "59670074",
   "metadata": {},
   "outputs": [],
   "source": [
    "#5.Create an array of all the even integers from 10 to 50 \n",
    "D4=np.arange(10,51,2)"
   ]
  },
  {
   "cell_type": "code",
   "execution_count": 100,
   "id": "6af66622",
   "metadata": {},
   "outputs": [
    {
     "data": {
      "text/plain": [
       "array([10, 12, 14, 16, 18, 20, 22, 24, 26, 28, 30, 32, 34, 36, 38, 40, 42,\n",
       "       44, 46, 48, 50])"
      ]
     },
     "execution_count": 100,
     "metadata": {},
     "output_type": "execute_result"
    }
   ],
   "source": [
    "D4"
   ]
  },
  {
   "cell_type": "code",
   "execution_count": 101,
   "id": "86158eba",
   "metadata": {},
   "outputs": [],
   "source": [
    "#6.Create a 3x3 matrix with values ranging from 0 to 8\n",
    "D5=np.arange(0,9).reshape(3,3)"
   ]
  },
  {
   "cell_type": "code",
   "execution_count": 102,
   "id": "8e746666",
   "metadata": {},
   "outputs": [
    {
     "data": {
      "text/plain": [
       "array([[0, 1, 2],\n",
       "       [3, 4, 5],\n",
       "       [6, 7, 8]])"
      ]
     },
     "execution_count": 102,
     "metadata": {},
     "output_type": "execute_result"
    }
   ],
   "source": [
    "D5"
   ]
  },
  {
   "cell_type": "code",
   "execution_count": 103,
   "id": "a9b33085",
   "metadata": {},
   "outputs": [],
   "source": [
    "#7. Create a 3x3 identity matrix \n",
    "D6=np.eye(3,3)"
   ]
  },
  {
   "cell_type": "code",
   "execution_count": 104,
   "id": "089c1b10",
   "metadata": {},
   "outputs": [
    {
     "data": {
      "text/plain": [
       "array([[1., 0., 0.],\n",
       "       [0., 1., 0.],\n",
       "       [0., 0., 1.]])"
      ]
     },
     "execution_count": 104,
     "metadata": {},
     "output_type": "execute_result"
    }
   ],
   "source": [
    "D6"
   ]
  },
  {
   "cell_type": "code",
   "execution_count": 106,
   "id": "9e4af79c",
   "metadata": {},
   "outputs": [
    {
     "data": {
      "text/plain": [
       "array([0.07898787])"
      ]
     },
     "execution_count": 106,
     "metadata": {},
     "output_type": "execute_result"
    }
   ],
   "source": [
    "#8. use NumPy to generate a random number between 0 to 1\n",
    "np.random.random(1)"
   ]
  },
  {
   "cell_type": "code",
   "execution_count": 107,
   "id": "e65997d2",
   "metadata": {},
   "outputs": [],
   "source": [
    "#9. Use Numpy to generate an array of 25 random numbers sampled from a standard normal distribution  \n",
    "D7=2.5*np.random.randn(25)+3  "
   ]
  },
  {
   "cell_type": "code",
   "execution_count": 108,
   "id": "34d9f68f",
   "metadata": {},
   "outputs": [
    {
     "data": {
      "text/plain": [
       "array([ 5.52766536, -0.60192796,  5.45142286,  6.44249078,  2.42428729,\n",
       "        4.20231029, -0.16727645,  3.67751273,  8.35190806,  4.1884226 ,\n",
       "        3.61631222,  0.28956511, -2.95395649,  1.90912801, -2.18102965,\n",
       "       -0.2385996 ,  1.83994104,  2.85743341,  3.68982434,  6.73628805,\n",
       "        4.41705159, -2.75843565,  6.4425018 ,  0.03153295,  3.19848263])"
      ]
     },
     "execution_count": 108,
     "metadata": {},
     "output_type": "execute_result"
    }
   ],
   "source": [
    "D7"
   ]
  },
  {
   "cell_type": "code",
   "execution_count": 109,
   "id": "ba441c47",
   "metadata": {},
   "outputs": [],
   "source": [
    "#10. Create a matrix of 10x10 matrix of linearly spaced elements from 0.01 to 1\n",
    "D8=np.linspace(0.01,1,100).reshape(10,10)"
   ]
  },
  {
   "cell_type": "code",
   "execution_count": 110,
   "id": "2aeb044f",
   "metadata": {},
   "outputs": [
    {
     "data": {
      "text/plain": [
       "array([[0.01, 0.02, 0.03, 0.04, 0.05, 0.06, 0.07, 0.08, 0.09, 0.1 ],\n",
       "       [0.11, 0.12, 0.13, 0.14, 0.15, 0.16, 0.17, 0.18, 0.19, 0.2 ],\n",
       "       [0.21, 0.22, 0.23, 0.24, 0.25, 0.26, 0.27, 0.28, 0.29, 0.3 ],\n",
       "       [0.31, 0.32, 0.33, 0.34, 0.35, 0.36, 0.37, 0.38, 0.39, 0.4 ],\n",
       "       [0.41, 0.42, 0.43, 0.44, 0.45, 0.46, 0.47, 0.48, 0.49, 0.5 ],\n",
       "       [0.51, 0.52, 0.53, 0.54, 0.55, 0.56, 0.57, 0.58, 0.59, 0.6 ],\n",
       "       [0.61, 0.62, 0.63, 0.64, 0.65, 0.66, 0.67, 0.68, 0.69, 0.7 ],\n",
       "       [0.71, 0.72, 0.73, 0.74, 0.75, 0.76, 0.77, 0.78, 0.79, 0.8 ],\n",
       "       [0.81, 0.82, 0.83, 0.84, 0.85, 0.86, 0.87, 0.88, 0.89, 0.9 ],\n",
       "       [0.91, 0.92, 0.93, 0.94, 0.95, 0.96, 0.97, 0.98, 0.99, 1.  ]])"
      ]
     },
     "execution_count": 110,
     "metadata": {},
     "output_type": "execute_result"
    }
   ],
   "source": [
    "D8"
   ]
  },
  {
   "cell_type": "code",
   "execution_count": 111,
   "id": "5e289270",
   "metadata": {},
   "outputs": [],
   "source": [
    "#11. Create an array of 20 linearly spaced points between 0 and 1 \n",
    "D9=np.linspace(0,1,20)"
   ]
  },
  {
   "cell_type": "code",
   "execution_count": 112,
   "id": "24d5367b",
   "metadata": {},
   "outputs": [
    {
     "data": {
      "text/plain": [
       "array([0.        , 0.05263158, 0.10526316, 0.15789474, 0.21052632,\n",
       "       0.26315789, 0.31578947, 0.36842105, 0.42105263, 0.47368421,\n",
       "       0.52631579, 0.57894737, 0.63157895, 0.68421053, 0.73684211,\n",
       "       0.78947368, 0.84210526, 0.89473684, 0.94736842, 1.        ])"
      ]
     },
     "execution_count": 112,
     "metadata": {},
     "output_type": "execute_result"
    }
   ],
   "source": [
    "D9"
   ]
  },
  {
   "cell_type": "code",
   "execution_count": 114,
   "id": "00b49a89",
   "metadata": {},
   "outputs": [],
   "source": [
    "#12.Create a 5x5 matrix as  \n",
    "#array([[ 1,  2,  3,  4,  5], \n",
    " #      [ 6,  7,  8,  9, 10], \n",
    "  #     [11, 12, 13, 14, 15], \n",
    "   #    [16, 17, 18, 19, 20], \n",
    "    #   [21, 22, 23, 24, 25]]) "
   ]
  },
  {
   "cell_type": "code",
   "execution_count": 115,
   "id": "5a86623e",
   "metadata": {},
   "outputs": [],
   "source": [
    "D10=np.array([[1,2,3,4,5],\n",
    "            [6,7,8,9,10],\n",
    "            [11,12,13,14,15],\n",
    "            [16,17,18,19,20],\n",
    "            [21,22,23,24,25]])"
   ]
  },
  {
   "cell_type": "code",
   "execution_count": 116,
   "id": "68b0e0c1",
   "metadata": {},
   "outputs": [
    {
     "data": {
      "text/plain": [
       "array([[ 1,  2,  3,  4,  5],\n",
       "       [ 6,  7,  8,  9, 10],\n",
       "       [11, 12, 13, 14, 15],\n",
       "       [16, 17, 18, 19, 20],\n",
       "       [21, 22, 23, 24, 25]])"
      ]
     },
     "execution_count": 116,
     "metadata": {},
     "output_type": "execute_result"
    }
   ],
   "source": [
    "D10"
   ]
  },
  {
   "cell_type": "code",
   "execution_count": 117,
   "id": "2c3e104b",
   "metadata": {},
   "outputs": [],
   "source": [
    "# a.       array([[12, 13, 14, 15], \n",
    "#             [17, 18, 19, 20], \n",
    "#                      [22, 23, 24, 25]])"
   ]
  },
  {
   "cell_type": "code",
   "execution_count": 120,
   "id": "241cd747",
   "metadata": {},
   "outputs": [
    {
     "data": {
      "text/plain": [
       "array([[12, 13, 14, 15],\n",
       "       [17, 18, 19, 20],\n",
       "       [22, 23, 24, 25]])"
      ]
     },
     "execution_count": 120,
     "metadata": {},
     "output_type": "execute_result"
    }
   ],
   "source": [
    "D10[2::,1::]"
   ]
  },
  {
   "cell_type": "code",
   "execution_count": 124,
   "id": "0a27ee71",
   "metadata": {},
   "outputs": [
    {
     "data": {
      "text/plain": [
       "20"
      ]
     },
     "execution_count": 124,
     "metadata": {},
     "output_type": "execute_result"
    }
   ],
   "source": [
    "# b. 20\n",
    "D10[3,4]"
   ]
  },
  {
   "cell_type": "code",
   "execution_count": 17,
   "id": "2639901b",
   "metadata": {},
   "outputs": [],
   "source": [
    "import numpy as np"
   ]
  },
  {
   "cell_type": "code",
   "execution_count": 18,
   "id": "5880ad27",
   "metadata": {},
   "outputs": [],
   "source": [
    "# c.y([[ 2], \n",
    "#    [ 7], \n",
    "#    [12]]) "
   ]
  },
  {
   "cell_type": "code",
   "execution_count": 21,
   "id": "a835480a",
   "metadata": {},
   "outputs": [
    {
     "data": {
      "text/plain": [
       "array([ 2,  7, 12])"
      ]
     },
     "execution_count": 21,
     "metadata": {},
     "output_type": "execute_result"
    }
   ],
   "source": [
    "D10[:3,1]"
   ]
  },
  {
   "cell_type": "code",
   "execution_count": 22,
   "id": "eed5fe2a",
   "metadata": {},
   "outputs": [],
   "source": [
    "#d.array([21, 22, 23, 24, 25])"
   ]
  },
  {
   "cell_type": "code",
   "execution_count": 23,
   "id": "af73ca01",
   "metadata": {},
   "outputs": [
    {
     "data": {
      "text/plain": [
       "array([21, 22, 23, 24, 25])"
      ]
     },
     "execution_count": 23,
     "metadata": {},
     "output_type": "execute_result"
    }
   ],
   "source": [
    "D10[4,::]"
   ]
  },
  {
   "cell_type": "code",
   "execution_count": 24,
   "id": "8f42bb9c",
   "metadata": {},
   "outputs": [],
   "source": [
    "#e.array([[16, 17, 18, 19, 20], \n",
    "#        [21, 22, 23, 24, 25]])  "
   ]
  },
  {
   "cell_type": "code",
   "execution_count": 25,
   "id": "83c324cd",
   "metadata": {},
   "outputs": [
    {
     "data": {
      "text/plain": [
       "array([[16, 17, 18, 19, 20],\n",
       "       [21, 22, 23, 24, 25]])"
      ]
     },
     "execution_count": 25,
     "metadata": {},
     "output_type": "execute_result"
    }
   ],
   "source": [
    "D10[3::,::]"
   ]
  },
  {
   "cell_type": "code",
   "execution_count": 26,
   "id": "5764e011",
   "metadata": {},
   "outputs": [],
   "source": [
    "#13. Get sum of all values in matrix"
   ]
  },
  {
   "cell_type": "code",
   "execution_count": 29,
   "id": "7cb34601",
   "metadata": {},
   "outputs": [],
   "source": [
    "X3=np.random.seed(100)\n",
    "X3=np.random.randint(0,100,[5,5])"
   ]
  },
  {
   "cell_type": "code",
   "execution_count": 30,
   "id": "1d41445c",
   "metadata": {},
   "outputs": [
    {
     "data": {
      "text/plain": [
       "array([[ 8, 24, 67, 87, 79],\n",
       "       [48, 10, 94, 52, 98],\n",
       "       [53, 66, 98, 14, 34],\n",
       "       [24, 15, 60, 58, 16],\n",
       "       [ 9, 93, 86,  2, 27]])"
      ]
     },
     "execution_count": 30,
     "metadata": {},
     "output_type": "execute_result"
    }
   ],
   "source": [
    "X3"
   ]
  },
  {
   "cell_type": "code",
   "execution_count": 31,
   "id": "259d13d5",
   "metadata": {},
   "outputs": [
    {
     "data": {
      "text/plain": [
       "1222"
      ]
     },
     "execution_count": 31,
     "metadata": {},
     "output_type": "execute_result"
    }
   ],
   "source": [
    "np.sum(X3)"
   ]
  },
  {
   "cell_type": "code",
   "execution_count": 32,
   "id": "34277432",
   "metadata": {},
   "outputs": [],
   "source": [
    "#14. Get sum of all the columns in matrix "
   ]
  },
  {
   "cell_type": "code",
   "execution_count": 33,
   "id": "56a29db6",
   "metadata": {},
   "outputs": [
    {
     "data": {
      "text/plain": [
       "array([265, 302, 265, 173, 217])"
      ]
     },
     "execution_count": 33,
     "metadata": {},
     "output_type": "execute_result"
    }
   ],
   "source": [
    "np.sum(X3,axis=1)"
   ]
  },
  {
   "cell_type": "code",
   "execution_count": 34,
   "id": "04e96f20",
   "metadata": {},
   "outputs": [],
   "source": [
    "#15. Get Standard deviation , varience , minimum, maximum from matrix row wise."
   ]
  },
  {
   "cell_type": "code",
   "execution_count": 35,
   "id": "5f0ef353",
   "metadata": {},
   "outputs": [
    {
     "data": {
      "text/plain": [
       "array([18.97998946, 32.4135774 , 14.96662955, 30.86486676, 31.88353807])"
      ]
     },
     "execution_count": 35,
     "metadata": {},
     "output_type": "execute_result"
    }
   ],
   "source": [
    "np.std(X3,axis=0)"
   ]
  },
  {
   "cell_type": "code",
   "execution_count": 36,
   "id": "1b91c4b5",
   "metadata": {},
   "outputs": [
    {
     "data": {
      "text/plain": [
       "array([ 360.24, 1050.64,  224.  ,  952.64, 1016.56])"
      ]
     },
     "execution_count": 36,
     "metadata": {},
     "output_type": "execute_result"
    }
   ],
   "source": [
    "np.var(X3,axis=0)"
   ]
  },
  {
   "cell_type": "code",
   "execution_count": 37,
   "id": "0c82c23e",
   "metadata": {},
   "outputs": [
    {
     "data": {
      "text/plain": [
       "array([ 8, 10, 60,  2, 16])"
      ]
     },
     "execution_count": 37,
     "metadata": {},
     "output_type": "execute_result"
    }
   ],
   "source": [
    "np.min(X3,axis=0)"
   ]
  },
  {
   "cell_type": "code",
   "execution_count": 38,
   "id": "c74f7069",
   "metadata": {},
   "outputs": [
    {
     "data": {
      "text/plain": [
       "array([53, 93, 98, 87, 98])"
      ]
     },
     "execution_count": 38,
     "metadata": {},
     "output_type": "execute_result"
    }
   ],
   "source": [
    "np.max(X3,axis=0)"
   ]
  },
  {
   "cell_type": "code",
   "execution_count": 39,
   "id": "659c7e44",
   "metadata": {},
   "outputs": [],
   "source": [
    "#16. create 2 d matrix with all border values nan and 1 in middle"
   ]
  },
  {
   "cell_type": "code",
   "execution_count": 42,
   "id": "b761a514",
   "metadata": {},
   "outputs": [],
   "source": [
    "X4=np.full((4,4),np.nan)"
   ]
  },
  {
   "cell_type": "raw",
   "id": "232b8227",
   "metadata": {},
   "source": [
    "X4"
   ]
  },
  {
   "cell_type": "code",
   "execution_count": 48,
   "id": "ff0bb192",
   "metadata": {},
   "outputs": [],
   "source": [
    "X4[1:3,1:3]=1"
   ]
  },
  {
   "cell_type": "code",
   "execution_count": 49,
   "id": "85a956ec",
   "metadata": {},
   "outputs": [
    {
     "data": {
      "text/plain": [
       "array([[nan, nan, nan, nan],\n",
       "       [nan,  1.,  1., nan],\n",
       "       [nan,  1.,  1., nan],\n",
       "       [nan, nan, nan, nan]])"
      ]
     },
     "execution_count": 49,
     "metadata": {},
     "output_type": "execute_result"
    }
   ],
   "source": [
    "X4"
   ]
  }
 ],
 "metadata": {
  "kernelspec": {
   "display_name": "Python 3 (ipykernel)",
   "language": "python",
   "name": "python3"
  },
  "language_info": {
   "codemirror_mode": {
    "name": "ipython",
    "version": 3
   },
   "file_extension": ".py",
   "mimetype": "text/x-python",
   "name": "python",
   "nbconvert_exporter": "python",
   "pygments_lexer": "ipython3",
   "version": "3.11.5"
  }
 },
 "nbformat": 4,
 "nbformat_minor": 5
}
