{
 "cells": [
  {
   "cell_type": "code",
   "execution_count": 1,
   "id": "540c87c0",
   "metadata": {},
   "outputs": [],
   "source": [
    "import numpy as np\n",
    "import pandas as pd"
   ]
  },
  {
   "cell_type": "code",
   "execution_count": 2,
   "id": "f6a2c7ea",
   "metadata": {},
   "outputs": [],
   "source": [
    "#Create a DataFrame named financial_data that contains quarterly financial metrics for the years 2021 and 2022. The metrics include \"Sales\" and \n",
    "#\"Expenses,\" which are further divided into \"Online\" and \"In-Store\" channels."
   ]
  },
  {
   "cell_type": "code",
   "execution_count": 3,
   "id": "7909e11f",
   "metadata": {},
   "outputs": [
    {
     "data": {
      "text/html": [
       "<div>\n",
       "<style scoped>\n",
       "    .dataframe tbody tr th:only-of-type {\n",
       "        vertical-align: middle;\n",
       "    }\n",
       "\n",
       "    .dataframe tbody tr th {\n",
       "        vertical-align: top;\n",
       "    }\n",
       "\n",
       "    .dataframe thead th {\n",
       "        text-align: right;\n",
       "    }\n",
       "</style>\n",
       "<table border=\"1\" class=\"dataframe\">\n",
       "  <thead>\n",
       "    <tr style=\"text-align: right;\">\n",
       "      <th></th>\n",
       "      <th>Year</th>\n",
       "      <th>Quarter</th>\n",
       "      <th>Sales_Online</th>\n",
       "      <th>Sales_In_Store</th>\n",
       "      <th>Expenses_Online</th>\n",
       "      <th>Expenses_In_Store</th>\n",
       "    </tr>\n",
       "  </thead>\n",
       "  <tbody>\n",
       "    <tr>\n",
       "      <th>0</th>\n",
       "      <td>2021</td>\n",
       "      <td>Q1</td>\n",
       "      <td>11000</td>\n",
       "      <td>21000</td>\n",
       "      <td>4000</td>\n",
       "      <td>7000</td>\n",
       "    </tr>\n",
       "    <tr>\n",
       "      <th>1</th>\n",
       "      <td>2021</td>\n",
       "      <td>Q2</td>\n",
       "      <td>19000</td>\n",
       "      <td>24500</td>\n",
       "      <td>3500</td>\n",
       "      <td>8200</td>\n",
       "    </tr>\n",
       "    <tr>\n",
       "      <th>2</th>\n",
       "      <td>2021</td>\n",
       "      <td>Q3</td>\n",
       "      <td>13000</td>\n",
       "      <td>28000</td>\n",
       "      <td>7000</td>\n",
       "      <td>8300</td>\n",
       "    </tr>\n",
       "    <tr>\n",
       "      <th>3</th>\n",
       "      <td>2021</td>\n",
       "      <td>Q4</td>\n",
       "      <td>15000</td>\n",
       "      <td>27000</td>\n",
       "      <td>6800</td>\n",
       "      <td>8000</td>\n",
       "    </tr>\n",
       "    <tr>\n",
       "      <th>4</th>\n",
       "      <td>2022</td>\n",
       "      <td>Q1</td>\n",
       "      <td>10000</td>\n",
       "      <td>30000</td>\n",
       "      <td>5200</td>\n",
       "      <td>8500</td>\n",
       "    </tr>\n",
       "    <tr>\n",
       "      <th>5</th>\n",
       "      <td>2022</td>\n",
       "      <td>Q2</td>\n",
       "      <td>29000</td>\n",
       "      <td>28000</td>\n",
       "      <td>7300</td>\n",
       "      <td>9000</td>\n",
       "    </tr>\n",
       "    <tr>\n",
       "      <th>6</th>\n",
       "      <td>2022</td>\n",
       "      <td>Q3</td>\n",
       "      <td>20000</td>\n",
       "      <td>29000</td>\n",
       "      <td>5700</td>\n",
       "      <td>9100</td>\n",
       "    </tr>\n",
       "    <tr>\n",
       "      <th>7</th>\n",
       "      <td>2022</td>\n",
       "      <td>Q4</td>\n",
       "      <td>22000</td>\n",
       "      <td>30000</td>\n",
       "      <td>4900</td>\n",
       "      <td>9500</td>\n",
       "    </tr>\n",
       "  </tbody>\n",
       "</table>\n",
       "</div>"
      ],
      "text/plain": [
       "   Year Quarter  Sales_Online  Sales_In_Store  Expenses_Online  \\\n",
       "0  2021      Q1         11000           21000             4000   \n",
       "1  2021      Q2         19000           24500             3500   \n",
       "2  2021      Q3         13000           28000             7000   \n",
       "3  2021      Q4         15000           27000             6800   \n",
       "4  2022      Q1         10000           30000             5200   \n",
       "5  2022      Q2         29000           28000             7300   \n",
       "6  2022      Q3         20000           29000             5700   \n",
       "7  2022      Q4         22000           30000             4900   \n",
       "\n",
       "   Expenses_In_Store  \n",
       "0               7000  \n",
       "1               8200  \n",
       "2               8300  \n",
       "3               8000  \n",
       "4               8500  \n",
       "5               9000  \n",
       "6               9100  \n",
       "7               9500  "
      ]
     },
     "execution_count": 3,
     "metadata": {},
     "output_type": "execute_result"
    }
   ],
   "source": [
    "Data = {\n",
    "    'Year': [2021, 2021, 2021, 2021, 2022, 2022, 2022, 2022],\n",
    "    'Quarter': ['Q1', 'Q2', 'Q3', 'Q4', 'Q1', 'Q2', 'Q3', 'Q4'],\n",
    "    'Sales_Online': [11000, 19000, 13000, 15000, 10000, 29000, 20000, 22000],\n",
    "    'Sales_In_Store': [21000, 24500, 28000, 27000, 30000, 28000, 29000, 30000],\n",
    "    'Expenses_Online': [4000, 3500, 7000, 6800, 5200, 7300, 5700, 4900],\n",
    "    'Expenses_In_Store': [7000, 8200, 8300, 8000, 8500, 9000, 9100, 9500]\n",
    "}\n",
    "Fin_data = pd.DataFrame(Data)\n",
    "Fin_data"
   ]
  },
  {
   "cell_type": "code",
   "execution_count": 5,
   "id": "b5fb8904",
   "metadata": {},
   "outputs": [
    {
     "data": {
      "text/plain": [
       "4    10000\n",
       "Name: Sales_Online, dtype: int64"
      ]
     },
     "execution_count": 5,
     "metadata": {},
     "output_type": "execute_result"
    }
   ],
   "source": [
    "#Q1.(a) What are the online sales for Q1 2022?\n",
    "q1_2022_OS = Fin_data[(Fin_data['Year'] == 2022) & (Fin_data['Quarter'] == 'Q1')]['Sales_Online']\n",
    "q1_2022_OS"
   ]
  },
  {
   "cell_type": "code",
   "execution_count": 6,
   "id": "ae9eaab5",
   "metadata": {},
   "outputs": [
    {
     "data": {
      "text/plain": [
       "2    28000\n",
       "Name: Sales_In_Store, dtype: int64"
      ]
     },
     "execution_count": 6,
     "metadata": {},
     "output_type": "execute_result"
    }
   ],
   "source": [
    "#Q1.(b) How much were the in-store expenses in Q3 2021? \n",
    "q3_2021_In = Fin_data[(Fin_data['Year'] == 2021) & (Fin_data['Quarter'] == 'Q3')]['Sales_In_Store']\n",
    "q3_2021_In"
   ]
  },
  {
   "cell_type": "code",
   "execution_count": 7,
   "id": "8882e34b",
   "metadata": {},
   "outputs": [
    {
     "data": {
      "text/plain": [
       "3    15000\n",
       "Name: Sales_Online, dtype: int64"
      ]
     },
     "execution_count": 7,
     "metadata": {},
     "output_type": "execute_result"
    }
   ],
   "source": [
    "#Q1.(c) What are the total sales for Q4 2021?\n",
    "q4_2021_TotalSale = Fin_data[(Fin_data['Year'] == 2021) & (Fin_data['Quarter']== 'Q4')]['Sales_Online']\n",
    "q4_2021_TotalSale"
   ]
  },
  {
   "cell_type": "code",
   "execution_count": 8,
   "id": "0ea5e0f3",
   "metadata": {},
   "outputs": [
    {
     "data": {
      "text/plain": [
       "4    5200\n",
       "5    7300\n",
       "6    5700\n",
       "7    4900\n",
       "Name: Expenses_Online, dtype: int64"
      ]
     },
     "execution_count": 8,
     "metadata": {},
     "output_type": "execute_result"
    }
   ],
   "source": [
    "#Q1.(d) What were the expenses for the online channel in 2022?\n",
    "OnlineExpense_2022 = Fin_data[(Fin_data['Year'] == 2022)]['Expenses_Online']\n",
    "OnlineExpense_2022"
   ]
  },
  {
   "cell_type": "code",
   "execution_count": 9,
   "id": "501db49f",
   "metadata": {},
   "outputs": [
    {
     "data": {
      "text/plain": [
       "1    19000\n",
       "Name: Sales_Online, dtype: int64"
      ]
     },
     "execution_count": 9,
     "metadata": {},
     "output_type": "execute_result"
    }
   ],
   "source": [
    "#Q1.(e) Retrieve sales data for Q2 2021.\n",
    "TotalSale_Q2_2021 = Fin_data[(Fin_data['Year'] == 2021) & (Fin_data['Quarter']== 'Q2')]['Sales_Online']\n",
    "TotalSale_Q2_2021"
   ]
  },
  {
   "cell_type": "code",
   "execution_count": 11,
   "id": "284116a5",
   "metadata": {},
   "outputs": [
    {
     "data": {
      "text/plain": [
       "9500"
      ]
     },
     "execution_count": 11,
     "metadata": {},
     "output_type": "execute_result"
    }
   ],
   "source": [
    "#Q1.(f) What is the maximum expense recorded in 2022?\n",
    "MaxExp_2022 = Fin_data[Fin_data['Year'] == 2022][['Expenses_Online', 'Expenses_In_Store']].max().max()\n",
    "MaxExp_2022\n"
   ]
  },
  {
   "cell_type": "code",
   "execution_count": 12,
   "id": "6aa44b3b",
   "metadata": {},
   "outputs": [
    {
     "name": "stdout",
     "output_type": "stream",
     "text": [
      "     Store    Product level_2  Values\n",
      "0  Store_A  Product_1   Sales    1000\n",
      "1  Store_A  Product_2   Sales    1500\n",
      "2  Store_B  Product_1   Sales    1100\n",
      "3  Store_B  Product_2   Sales    1600\n"
     ]
    }
   ],
   "source": [
    "#Q2. Stack a DataFrame of Store, Product, and Sales.\n",
    "data = {\n",
    "    'Store': ['Store_A', 'Store_A', 'Store_B', 'Store_B'],\n",
    "    'Product': ['Product_1', 'Product_2', 'Product_1', 'Product_2'],\n",
    "    'Sales': [1000, 1500, 1100, 1600]\n",
    "}\n",
    "df = pd.DataFrame(data)\n",
    "\n",
    "stacked_df = df.set_index(['Store', 'Product']).stack().reset_index(name='Values')\n",
    "\n",
    "print(stacked_df)"
   ]
  },
  {
   "cell_type": "code",
   "execution_count": 13,
   "id": "13a10396",
   "metadata": {},
   "outputs": [
    {
     "name": "stdout",
     "output_type": "stream",
     "text": [
      "Store      Store_A  Store_B\n",
      "Product                    \n",
      "Product_1     1000     1100\n",
      "Product_2     1500     1600\n"
     ]
    }
   ],
   "source": [
    "#Q3. Unstack it to show sales by store.\n",
    "data = {\n",
    "    'Store': ['Store_A', 'Store_A', 'Store_B', 'Store_B'],\n",
    "    'Product': ['Product_1', 'Product_2', 'Product_1', 'Product_2'],\n",
    "    'Sales': [1000, 1500, 1100, 1600]\n",
    "}\n",
    "\n",
    "df = pd.DataFrame(data)\n",
    "\n",
    "unstacked_df = df.set_index(['Product', 'Store'])['Sales'].unstack()\n",
    "\n",
    "print(unstacked_df)"
   ]
  },
  {
   "cell_type": "code",
   "execution_count": 14,
   "id": "82a93940",
   "metadata": {},
   "outputs": [
    {
     "name": "stdout",
     "output_type": "stream",
     "text": [
      "                      Salary\n",
      "Department Role             \n",
      "Sales      Manager     70000\n",
      "           Associate   50000\n",
      "HR         Manager     75000\n",
      "           Associate   52000\n",
      "IT         Manager     90000\n",
      "           Associate   60000\n"
     ]
    }
   ],
   "source": [
    "#Q4. Create a multi-index with Department and Role.\n",
    "data = {\n",
    "    'Department': ['Sales', 'Sales', 'HR', 'HR', 'IT', 'IT'],\n",
    "    'Role': ['Manager', 'Associate', 'Manager', 'Associate', 'Manager', 'Associate'],\n",
    "    'Salary': [70000, 50000, 75000, 52000, 90000, 60000]\n",
    "}\n",
    "\n",
    "df = pd.DataFrame(data)\n",
    "\n",
    "multi_index_df = df.set_index(['Department', 'Role'])\n",
    "\n",
    "print(multi_index_df)\n"
   ]
  },
  {
   "cell_type": "code",
   "execution_count": 15,
   "id": "7a74acd9",
   "metadata": {},
   "outputs": [
    {
     "name": "stdout",
     "output_type": "stream",
     "text": [
      "           Salary\n",
      "Role             \n",
      "Manager     70000\n",
      "Associate   50000\n"
     ]
    }
   ],
   "source": [
    "#Q5. Access employees from a specific department.\n",
    "sales_employees = multi_index_df.loc['Sales']\n",
    "print(sales_employees)\n"
   ]
  },
  {
   "cell_type": "code",
   "execution_count": 16,
   "id": "8517a66c",
   "metadata": {},
   "outputs": [
    {
     "name": "stdout",
     "output_type": "stream",
     "text": [
      "   Student   Subject  Grade\n",
      "1    Bobby     Maths     82\n",
      "3      Dev     Maths     95\n",
      "2  Charles   Science     85\n",
      "0     Alex   Science     90\n",
      "4   Everly  Science      80\n"
     ]
    }
   ],
   "source": [
    "#Q6. Sort a DataFrame of student grades by Subject and Grade\n",
    "data = {\n",
    "    'Student': ['Alex', 'Bobby', 'Charles', 'Dev', 'Everly'],\n",
    "    'Subject': ['Science', 'Maths', 'Science', 'Maths', 'Science '],\n",
    "    'Grade': [90, 82, 85, 95, 80]\n",
    "}\n",
    "\n",
    "df = pd.DataFrame(data)\n",
    "\n",
    "sorted_df = df.sort_values(by=['Subject', 'Grade'])\n",
    "ascending=[True]\n",
    "\n",
    "print(sorted_df)\n"
   ]
  },
  {
   "cell_type": "code",
   "execution_count": 17,
   "id": "9476625b",
   "metadata": {},
   "outputs": [
    {
     "name": "stdout",
     "output_type": "stream",
     "text": [
      "   Student   Subject  Grade\n",
      "0    Bobby     Maths     82\n",
      "1      Dev     Maths     95\n",
      "2  Charles   Science     85\n",
      "3     Alex   Science     90\n",
      "4   Everly  Science      80\n"
     ]
    }
   ],
   "source": [
    "#Q7. Reset the index of the sorted grades.\n",
    "sorted_df = sorted_df.reset_index(drop=True)\n",
    "print(sorted_df)"
   ]
  },
  {
   "cell_type": "code",
   "execution_count": 18,
   "id": "d37ee4d3",
   "metadata": {},
   "outputs": [
    {
     "name": "stdout",
     "output_type": "stream",
     "text": [
      "            Temperature  Humidity\n",
      "Date                             \n",
      "2023-01-01           25        90\n",
      "2023-01-02           30        80\n",
      "2023-01-03           32        88\n",
      "2023-01-04           28        87\n"
     ]
    }
   ],
   "source": [
    "#Q8. Set the Date column as the index in a weather DataFrame\n",
    "data = {\n",
    "    'Date': ['2023-01-01', '2023-01-02', '2023-01-03', '2023-01-04'],\n",
    "    'Temperature': [25, 30, 32, 28],\n",
    "    'Humidity': [90, 80, 88, 87]\n",
    "}\n",
    "\n",
    "weather_df = pd.DataFrame(data)\n",
    "weather_df['Date'] = pd.to_datetime(weather_df['Date'])\n",
    "weather_df = weather_df.set_index('Date')\n",
    "\n",
    "print(weather_df)\n"
   ]
  },
  {
   "cell_type": "code",
   "execution_count": 19,
   "id": "78bfc38c",
   "metadata": {},
   "outputs": [
    {
     "name": "stdout",
     "output_type": "stream",
     "text": [
      "     Store    Product  Sales\n",
      "0  Store_A  Product_1   2000\n",
      "1  Store_A  Product_2   1700\n",
      "2  Store_B  Product_1   1500\n",
      "3  Store_B  Product_2   2100\n"
     ]
    }
   ],
   "source": [
    "#Q9. Flatten a multi-index DataFrame of product sales.\n",
    "data = {\n",
    "    'Sales': [2000, 1700, 1500, 2100]\n",
    "}\n",
    "index = pd.MultiIndex.from_tuples(\n",
    "    [('Store_A', 'Product_1'), ('Store_A', 'Product_2'),\n",
    "     ('Store_B', 'Product_1'), ('Store_B', 'Product_2')],\n",
    "    names=['Store', 'Product']\n",
    ")\n",
    "\n",
    "multi_index_df = pd.DataFrame(data, index=index)\n",
    "\n",
    "flattened_df = multi_index_df.reset_index()\n",
    "\n",
    "print(flattened_df)\n"
   ]
  },
  {
   "cell_type": "code",
   "execution_count": 20,
   "id": "393730b4",
   "metadata": {},
   "outputs": [
    {
     "name": "stdout",
     "output_type": "stream",
     "text": [
      "Multi-index DataFrame:\n",
      "                        Sales\n",
      "Category     Product        \n",
      "Accessories  Belt       1200\n",
      "Accessories  Watch       800\n",
      "Beauty       Lipstick    450\n",
      "Haircare     Shampoo     700\n",
      "Clothing     T-Shirt     300\n",
      "             Jeans       200\n",
      "\n",
      "Average Sales by Category:\n",
      "                Sales\n",
      "Category            \n",
      "Accessories    800.0\n",
      "Accessories   1200.0\n",
      "Beauty         450.0\n",
      "Clothing       250.0\n",
      "Haircare       700.0\n"
     ]
    }
   ],
   "source": [
    "#Q10. Create a multi-index using Category and Product in a product DataFrame. Then, average the levels in the column.\n",
    "data = {\n",
    "    'Category': ['Accessories ', 'Accessories', 'Beauty', 'Haircare', 'Clothing', 'Clothing'],\n",
    "    'Product': ['Belt', 'Watch','Lipstick','Shampoo', 'T-Shirt', 'Jeans'],\n",
    "    'Sales': [1200, 800, 450, 700, 300, 200]\n",
    "}\n",
    "\n",
    "df = pd.DataFrame(data)\n",
    "\n",
    "multi_index_df = df.set_index(['Category', 'Product'])\n",
    "\n",
    "average_sales_by_category = multi_index_df.groupby(level='Category').mean()\n",
    "\n",
    "print(\"Multi-index DataFrame:\\n\", multi_index_df)\n",
    "print(\"\\nAverage Sales by Category:\\n\", average_sales_by_category)\n"
   ]
  },
  {
   "cell_type": "code",
   "execution_count": null,
   "id": "3abf571a",
   "metadata": {},
   "outputs": [],
   "source": []
  }
 ],
 "metadata": {
  "kernelspec": {
   "display_name": "Python 3 (ipykernel)",
   "language": "python",
   "name": "python3"
  },
  "language_info": {
   "codemirror_mode": {
    "name": "ipython",
    "version": 3
   },
   "file_extension": ".py",
   "mimetype": "text/x-python",
   "name": "python",
   "nbconvert_exporter": "python",
   "pygments_lexer": "ipython3",
   "version": "3.11.5"
  }
 },
 "nbformat": 4,
 "nbformat_minor": 5
}
