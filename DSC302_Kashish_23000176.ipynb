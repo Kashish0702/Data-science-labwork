{
 "cells": [
  {
   "cell_type": "code",
   "execution_count": 1,
   "id": "24e6e3f2",
   "metadata": {},
   "outputs": [
    {
     "name": "stdout",
     "output_type": "stream",
     "text": [
      "7 to the power 4 is 2401\n"
     ]
    }
   ],
   "source": [
    "#What is 7 to the power of 4?\n",
    "c=7**4;\n",
    "print('7 to the power 4 is',c);"
   ]
  },
  {
   "cell_type": "code",
   "execution_count": 2,
   "id": "f7ba5d05",
   "metadata": {},
   "outputs": [
    {
     "name": "stdout",
     "output_type": "stream",
     "text": [
      "['Hi', 'there', 'Sam!']\n"
     ]
    }
   ],
   "source": [
    "# Split this string: \n",
    "#s = \"Hi there Sam!\" into a list.\n",
    "s = \"Hi there Sam!\";\n",
    "str=s.split();\n",
    "print(str);"
   ]
  },
  {
   "cell_type": "code",
   "execution_count": 3,
   "id": "167b6b4f",
   "metadata": {},
   "outputs": [
    {
     "name": "stdout",
     "output_type": "stream",
     "text": [
      "The diameter of Earth is 12742 kilometers.\n"
     ]
    }
   ],
   "source": [
    "\"\"\"Given the variables: \n",
    "planet = \"Earth\" \n",
    "diameter = 12742 \n",
    "Use .format() to print the following string:  \n",
    "The diameter of Earth is 12742 kilometers.\"\"\"\n",
    "str=\"The diameter of {planet} is {diameter} kilometers.\".format(planet='Earth',diameter=12742); \n",
    "print(str);"
   ]
  },
  {
   "cell_type": "code",
   "execution_count": 4,
   "id": "a74e2a13",
   "metadata": {},
   "outputs": [
    {
     "data": {
      "text/plain": [
       "'hello'"
      ]
     },
     "execution_count": 4,
     "metadata": {},
     "output_type": "execute_result"
    }
   ],
   "source": [
    "\"\"\" Given this nested list, use indexing to grab the word \"hello” \n",
    "lst = [1,2,[3,4],[5,[100,200,['hello']],23,11],1,7]\"\"\"\n",
    "lst = [1,2,[3,4],[5,[100,200,['hello']],23,11],1,7]\n",
    "lst[3][1][2][0]"
   ]
  },
  {
   "cell_type": "code",
   "execution_count": 5,
   "id": "e524aa38",
   "metadata": {},
   "outputs": [
    {
     "data": {
      "text/plain": [
       "'hello'"
      ]
     },
     "execution_count": 5,
     "metadata": {},
     "output_type": "execute_result"
    }
   ],
   "source": [
    "\"\"\" Given this nested dictionary grab the word \"hello\". \n",
    "d = {'k1':[1,2,3,{'tricky':['oh','man','inception',{'target':[1,2,3,'hello']}]}]}\"\"\"\n",
    "d = {'k1':[1,2,3,{'tricky':['oh','man','inception',{'target':[1,2,3,'hello']}]}]}\n",
    "d['k1'][3]['tricky'][3]['target'][3]"
   ]
  },
  {
   "cell_type": "code",
   "execution_count": 6,
   "id": "441d8bf0",
   "metadata": {},
   "outputs": [
    {
     "name": "stdout",
     "output_type": "stream",
     "text": [
      "True\n"
     ]
    }
   ],
   "source": [
    "\"\"\"Create a basic function that returns True if the word 'dog' is contained in the input string. Don't \n",
    "worry about edge cases like a punctuation being attached to the word dog, but do account for \n",
    "capitalization. : \n",
    "findDog('Is there a dog here?')\"\"\"\n",
    "def findDog(st):\n",
    "    return 'dog' in st.lower().split();\n",
    "findDog('Is there a dog here?');\n",
    "print(findDog('Is there a dog here?'));\n",
    "\n"
   ]
  },
  {
   "cell_type": "code",
   "execution_count": 7,
   "id": "dc551b03",
   "metadata": {},
   "outputs": [
    {
     "name": "stdout",
     "output_type": "stream",
     "text": [
      "['soup', 'salad']\n"
     ]
    }
   ],
   "source": [
    "\"\"\"Use lambda expressions and the filter() function to filter out words from a list that don't start \n",
    "with the letter 's'. For example:** \n",
    "seq = ['soup','dog','salad','cat','great'] \n",
    "should be filtered down to: \n",
    "['soup','salad']\"\"\"\n",
    "lst = ['soup','dog','salad','cat','great'];\n",
    "lst2=list(filter(lambda word: word[0]=='s',lst));\n",
    "print(lst2);"
   ]
  },
  {
   "cell_type": "code",
   "execution_count": 8,
   "id": "29230ba0",
   "metadata": {},
   "outputs": [
    {
     "name": "stdout",
     "output_type": "stream",
     "text": [
      "domain.com\n"
     ]
    }
   ],
   "source": [
    "\"\"\"Create a function that grabs the email website domain from a string in the form: ** \n",
    "user@domain.com \n",
    "So for example, passing \"user@domain.com\" would return: domain.com\"\"\"\n",
    "def domain(email):\n",
    "    return email.split('@')[-1]\n",
    "print(domain('user@domain.com'));"
   ]
  },
  {
   "cell_type": "code",
   "execution_count": 4,
   "id": "fadedd91",
   "metadata": {},
   "outputs": [
    {
     "name": "stdout",
     "output_type": "stream",
     "text": [
      "Enter your Roll.no?: 123\n",
      "Enter Your name?: ABC\n",
      "Enter your Maths Marks: 91\n",
      "Enter your Physics Marks: 80\n",
      "Enter your Chemistry Marks: 78\n",
      "Roll Number: 123\n",
      "Name: ABC\n",
      "Marks: Maths - 91, Physics - 80, Chemistry - 78\n",
      "Percentage: 83.0%\n",
      "DISTINCTION\n"
     ]
    }
   ],
   "source": [
    "def perc(m, p, c):\n",
    "    total_marks = m + p + c\n",
    "    percentage = (total_marks / 300) * 100  # Assuming total marks for 3 subjects is 300\n",
    "\n",
    "    print(f\"Percentage: {percentage}%\")\n",
    "\n",
    "    if percentage > 70:\n",
    "        print(\"DISTINCTION\")\n",
    "    elif percentage > 60:\n",
    "        print(\"FIRST CLASS\")\n",
    "    elif percentage > 50:\n",
    "        print(\"SECOND CLASS\")\n",
    "    elif percentage > 40:\n",
    "        print(\"PASS CLASS\")\n",
    "    else:\n",
    "        print(\"FAIL\")\n",
    "\n",
    "def grea(marks):\n",
    "    for mark in marks:\n",
    "        if mark <= 40:\n",
    "            return \"Fail\"\n",
    "    return \"Pass\"\n",
    "\n",
    "a = int(input(\"Enter your Roll.no?: \"))\n",
    "b = input(\"Enter Your name?: \")\n",
    "Maths = int(input(\"Enter your Maths Marks: \"))\n",
    "Physics = int(input(\"Enter your Physics Marks: \"))\n",
    "Chemistry = int(input(\"Enter your Chemistry Marks: \"))\n",
    "chk_marks = [Maths, Physics, Chemistry]\n",
    "\n",
    "result = grea(chk_marks)\n",
    "\n",
    "if result == \"Fail\":\n",
    "    print(\"FAIL\")\n",
    "else:\n",
    "    print(f\"Roll Number: {a}\")\n",
    "    print(f\"Name: {b}\")\n",
    "    print(f\"Marks: Maths - {Maths}, Physics - {Physics}, Chemistry - {Chemistry}\")\n",
    "    perc(Maths, Physics,Chemistry)"
   ]
  },
  {
   "cell_type": "code",
   "execution_count": 5,
   "id": "b2dac366",
   "metadata": {},
   "outputs": [
    {
     "name": "stdout",
     "output_type": "stream",
     "text": [
      "Enter your speed: 81\n",
      "enter your birthday dd/mm/yyyy: 3009\n",
      "Small Ticket\n",
      "86\n"
     ]
    }
   ],
   "source": [
    "a = int(input(\"Enter your speed: \"))\n",
    "b = int(input(\"enter your birthday dd/mm/yyyy: \"))\n",
    "if(b == 3009):\n",
    "    if (a<=60):\n",
    "        print(\"No Ticket\")\n",
    "    elif (a>=61 or a<=81):\n",
    "        print(\"Small Ticket\")\n",
    "    else:\n",
    "        print(\"Big Ticket\")\n",
    "    print(a+5)\n",
    "else:\n",
    "    print(\"proper birthday\")"
   ]
  },
  {
   "cell_type": "code",
   "execution_count": 6,
   "id": "8825a9f4",
   "metadata": {},
   "outputs": [
    {
     "name": "stdout",
     "output_type": "stream",
     "text": [
      "Enter Your ID: 123\n",
      "Enter Your Name: ABC\n",
      "Enter your Salary: 40000\n",
      "Enter Your Experience: 2\n",
      "The Net profit without bonus: 33400.0\n",
      "The Bonus of employee: 6400.0\n",
      "The Net Salary of Employee ABC (ID: 123): 39800.0\n"
     ]
    }
   ],
   "source": [
    "def np(hra, da, pf):\n",
    "    netprofit = hra * (35 / 100) + da * (58 / 100) - pf * (95 / 1000)\n",
    "    return netprofit\n",
    "\n",
    "def bon(salary, experience):\n",
    "    if experience >= 30:\n",
    "        return salary * (59 / 100)\n",
    "    elif experience >= 23:\n",
    "        return salary * (51 / 100)\n",
    "    elif experience >= 15:\n",
    "        return salary * (45 / 100)\n",
    "    elif experience >= 7:\n",
    "        return salary * (33 / 100)\n",
    "    else:\n",
    "        return salary * (16 / 100)\n",
    "\n",
    "a = int(input(\"Enter Your ID: \"))\n",
    "b = input(\"Enter Your Name: \")\n",
    "c = int(input(\"Enter your Salary: \"))\n",
    "d = int(input(\"Enter Your Experience: \"))\n",
    "\n",
    "f = np(c, c, c)\n",
    "g = bon(c, d)\n",
    "no = f + g\n",
    "\n",
    "print(f\"The Net profit without bonus: {f}\")\n",
    "print(f\"The Bonus of employee: {g}\")\n",
    "print(f\"The Net Salary of Employee {b} (ID: {a}): {no}\")"
   ]
  },
  {
   "cell_type": "code",
   "execution_count": null,
   "id": "dc0fc535",
   "metadata": {},
   "outputs": [],
   "source": []
  }
 ],
 "metadata": {
  "kernelspec": {
   "display_name": "Python 3 (ipykernel)",
   "language": "python",
   "name": "python3"
  },
  "language_info": {
   "codemirror_mode": {
    "name": "ipython",
    "version": 3
   },
   "file_extension": ".py",
   "mimetype": "text/x-python",
   "name": "python",
   "nbconvert_exporter": "python",
   "pygments_lexer": "ipython3",
   "version": "3.11.5"
  }
 },
 "nbformat": 4,
 "nbformat_minor": 5
}
